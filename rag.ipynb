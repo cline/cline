{
 "cells": [
  {
   "cell_type": "code",
   "execution_count": 15,
   "id": "6a49f9a9",
   "metadata": {},
   "outputs": [],
   "source": [
    "import numpy\n",
    "import getpass\n",
    "import os\n",
    "import bs4\n",
    "from langchain import hub\n",
    "from langchain_community.document_loaders import WebBaseLoader\n",
    "from langchain_core.documents import Document\n",
    "from langchain_text_splitters import RecursiveCharacterTextSplitter\n",
    "from langgraph.graph import START, StateGraph\n",
    "from typing_extensions import List, TypedDict\n",
    "from langchain_community.document_loaders import PyPDFLoader\n",
    "from langchain_core.vectorstores import InMemoryVectorStore\n",
    "from langchain_community.embeddings.sentence_transformer import SentenceTransformerEmbeddings\n",
    "from langchain_community.vectorstores import SQLiteVec\n"
   ]
  },
  {
   "cell_type": "code",
   "execution_count": 2,
   "id": "9ea0be00",
   "metadata": {},
   "outputs": [
    {
     "data": {
      "text/plain": [
       "' \\nimport getpass\\nimport os\\n\\nos.environ[\"LANGSMITH_TRACING\"] = \"true\"\\nos.environ[\"LANGSMITH_API_KEY\"] = getpass.getpass()\\n\\n... or in the command line:\\n\\nexport LANGSMITH_TRACING=\"true\"\\nexport LANGSMITH_API_KEY=\"...\"\\n'"
      ]
     },
     "execution_count": 2,
     "metadata": {},
     "output_type": "execute_result"
    }
   ],
   "source": [
    "# TODO it's good to do this to help trace what's going on inside the agent:\n",
    "\n",
    "\"\"\" \n",
    "import getpass\n",
    "import os\n",
    "\n",
    "os.environ[\"LANGSMITH_TRACING\"] = \"true\"\n",
    "os.environ[\"LANGSMITH_API_KEY\"] = getpass.getpass()\n",
    "\n",
    "... or in the command line:\n",
    "\n",
    "export LANGSMITH_TRACING=\"true\"\n",
    "export LANGSMITH_API_KEY=\"...\"\n",
    "\"\"\""
   ]
  },
  {
   "cell_type": "code",
   "execution_count": null,
   "id": "4d146864",
   "metadata": {},
   "outputs": [],
   "source": [
    "from dotenv import load_dotenv\n",
    "load_dotenv()"
   ]
  },
  {
   "cell_type": "code",
   "execution_count": null,
   "id": "4481660a",
   "metadata": {},
   "outputs": [],
   "source": [
    "# TODO use very terrible, cheap models instead of those SOTA models!"
   ]
  },
  {
   "cell_type": "code",
   "execution_count": null,
   "id": "e5e8d685",
   "metadata": {},
   "outputs": [],
   "source": [
    "\n",
    "\n",
    "\n",
    "if not os.environ.get(\"GOOGLE_API_KEY\"):\n",
    "  raise ValueError('no GOOGLE_API_KEY!')\n",
    "\n",
    "from langchain.chat_models import init_chat_model\n",
    "\n",
    "llm = init_chat_model(\"gemini-2.5-flash\", model_provider=\"google_genai\")"
   ]
  },
  {
   "cell_type": "code",
   "execution_count": 3,
   "id": "d744d418",
   "metadata": {},
   "outputs": [],
   "source": [
    "\n",
    "if not os.environ.get(\"GOOGLE_API_KEY\"):\n",
    "  raise ValueError('no GOOGLE_API_KEY!')\n",
    "\n",
    "from langchain_google_genai import GoogleGenerativeAIEmbeddings\n",
    "\n",
    "embeddings = GoogleGenerativeAIEmbeddings(model=\"models/gemini-embedding-001\")"
   ]
  },
  {
   "cell_type": "code",
   "execution_count": 31,
   "id": "abc92d03",
   "metadata": {},
   "outputs": [],
   "source": [
    "vector_store_mode = \"sqlite\"\n",
    "db_file = \"/tmp/vec.db\"\n",
    "table = \"asop12\"\n",
    "\n",
    "if vector_store_mode == \"inmemory\":\n",
    "    vector_store = InMemoryVectorStore(embeddings)\n",
    "elif vector_store_mode == \"sqlite\":\n",
    "    # embedding_function = SentenceTransformerEmbeddings(model_name=\"all-MiniLM-L6-v2\")\n",
    "    embedding_function = GoogleGenerativeAIEmbeddings(model=\"models/gemini-embedding-001\")\n",
    "    connection = SQLiteVec.create_connection(db_file=db_file)\n",
    "    # db1 = SQLiteVec(\n",
    "    # table=\"asop12\", embedding=embedding_function, connection=connection\n",
    "    # )\n",
    "    vector_store = SQLiteVec(table=table, db_file=db_file, embedding=embedding_function, connection=connection)"
   ]
  },
  {
   "cell_type": "code",
   "execution_count": null,
   "id": "dde2c0f8",
   "metadata": {},
   "outputs": [],
   "source": [
    "\n",
    "# path = \"/home/hugo/code/aria/assets/actuarial/5_Werner_Modlin.pdf\" # TODO need to increase API limit or throttle it\n",
    "path = \"/home/hugo/code/aria/assets/actuarial/5_ASOP_12.pdf\"\n",
    "\n",
    "# Load and chunk contents of the blog\n",
    "loader = PyPDFLoader(path) # TODO relative path\n",
    "docs = loader.load()\n",
    "\n",
    "# Chunk content\n",
    "text_splitter = RecursiveCharacterTextSplitter(chunk_size=1000, chunk_overlap=200)\n",
    "all_splits = text_splitter.split_documents(docs)\n",
    "\n",
    "# Index chunks\n",
    "_ = vector_store.add_documents(documents=all_splits)\n",
    "\n",
    "# Define prompt for question-answering\n",
    "# N.B. for non-US LangSmith endpoints, you may need to specify\n",
    "# api_url=\"https://api.smith.langchain.com\" in hub.pull.\n",
    "prompt = hub.pull(\"rlm/rag-prompt\")\n",
    "\n",
    "\n",
    "# Define state for application\n",
    "class State(TypedDict):\n",
    "    question: str\n",
    "    context: List[Document]\n",
    "    answer: str\n",
    "\n",
    "\n",
    "# Define application steps\n",
    "def retrieve(state: State):\n",
    "    retrieved_docs = vector_store.similarity_search(state[\"question\"])\n",
    "    return {\"context\": retrieved_docs}\n",
    "\n",
    "\n",
    "def generate(state: State):\n",
    "    docs_content = \"\\n\\n\".join(doc.page_content for doc in state[\"context\"])\n",
    "    messages = prompt.invoke({\"question\": state[\"question\"], \"context\": docs_content})\n",
    "    response = llm.invoke(messages)\n",
    "    return {\"answer\": response.content}\n",
    "\n",
    "\n",
    "# Compile application and test\n",
    "graph_builder = StateGraph(State).add_sequence([retrieve, generate])\n",
    "graph_builder.add_edge(START, \"retrieve\")\n",
    "graph = graph_builder.compile()"
   ]
  },
  {
   "cell_type": "code",
   "execution_count": 33,
   "id": "1c66c4da",
   "metadata": {},
   "outputs": [
    {
     "name": "stdout",
     "output_type": "stream",
     "text": [
      "I cannot provide the exact, word-for-word definition of Adverse Selection from the provided context. The definition for \"2.2 Adverse Selection\" is cut off mid-sentence, ending with \"Actions taken by one party using risk characteristics or other information known to or suspected by that party that cause a financial disadvantage to the\". The rest of the context discusses commentary and changes related to the definition but does not complete the definition itself.\n"
     ]
    },
    {
     "data": {
      "text/plain": [
       "'\\nExpected:\\nAdverse Selection — Actions taken by one party using risk characteristics or other\\ninformation known to or suspected by that party that cause a financial disadvantage to the\\nfinancial or personal security system (sometimes referred to as antiselection).\\n'"
      ]
     },
     "execution_count": 33,
     "metadata": {},
     "output_type": "execute_result"
    }
   ],
   "source": [
    "response = graph.invoke({\"question\": \"Give me the exact, word-for-word definition of Adverse Selection in ASOP 12\"})\n",
    "print(response[\"answer\"])\n",
    "\"\"\"\n",
    "Expected:\n",
    "Adverse Selection — Actions taken by one party using risk characteristics or other\n",
    "information known to or suspected by that party that cause a financial disadvantage to the\n",
    "financial or personal security system (sometimes referred to as antiselection).\n",
    "\"\"\""
   ]
  },
  {
   "cell_type": "code",
   "execution_count": null,
   "id": "7c9708c9",
   "metadata": {},
   "outputs": [],
   "source": []
  }
 ],
 "metadata": {
  "kernelspec": {
   "display_name": ".venv (3.12.3)",
   "language": "python",
   "name": "python3"
  },
  "language_info": {
   "codemirror_mode": {
    "name": "ipython",
    "version": 3
   },
   "file_extension": ".py",
   "mimetype": "text/x-python",
   "name": "python",
   "nbconvert_exporter": "python",
   "pygments_lexer": "ipython3",
   "version": "3.12.3"
  }
 },
 "nbformat": 4,
 "nbformat_minor": 5
}
